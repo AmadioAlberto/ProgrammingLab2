{
 "cells": [
  {
   "cell_type": "markdown",
   "metadata": {},
   "source": [
    "### **1. Trasformare cicli in list comprehension**\n",
    "\n",
    "Fai tre esempi di cicli producono una lista e poi riscrivi lo stesso codice usando la list comprehension"
   ]
  },
  {
   "cell_type": "code",
   "execution_count": 1,
   "metadata": {},
   "outputs": [
    {
     "name": "stdout",
     "output_type": "stream",
     "text": [
      "ciclo1: [1, 4, 9, 16, 25, 36, 49, 64, 81, 100]\n",
      "clo1: [1, 4, 9, 16, 25, 36, 49, 64, 81]\n",
      "ciclo2: [0, 2, 4, 6, 8, 10, 12, 14, 16, 18, 20]\n",
      "clo2: [0, 2, 4, 6, 8, 10, 12, 14, 16, 18, 20]\n",
      "ciclo3: [4, 4, 4, 4]\n",
      "clo3: [4, 4, 4, 4]\n"
     ]
    }
   ],
   "source": [
    "#1-quadrati dei numeri da 1 a 10 \n",
    "\n",
    "ciclo1=[]\n",
    "for i in range(1, 11):\n",
    "    ciclo1.append(i**2)\n",
    "\n",
    "clo1=[i**2 for i in range(1,10)]\n",
    "print(\"ciclo1:\", ciclo1)\n",
    "print(\"clo1:\", clo1)\n",
    "\n",
    "#2-numeri pari da 0 a 20\n",
    "ciclo2=[]\n",
    "for i in range(0,21):\n",
    "\n",
    "    if i%2 == 0:\n",
    "        ciclo2.append(i)\n",
    "\n",
    "clo2=[i for i in range(0,21) if i%2 == 0]\n",
    "\n",
    "print(\"ciclo2:\", ciclo2)\n",
    "print(\"clo2:\", clo2)\n",
    "\n",
    "\n",
    "#3-lunghezza parole da una lista \n",
    "\n",
    "parole=[\"ciao\", \"come\", \"stai\", \"oggi\"]\n",
    "\n",
    "ciclo3=[]\n",
    "for i in parole:\n",
    "    ciclo3.append(len(i))\n",
    "\n",
    "clo3=[len(i) for i in parole]\n",
    "\n",
    "print(\"ciclo3:\", ciclo3)\n",
    "print(\"clo3:\", clo3)"
   ]
  },
  {
   "cell_type": "markdown",
   "metadata": {},
   "source": [
    "### **2. Vettore di Numeri Primi**\n",
    "\n",
    "1. **Crea un vettore** contenente tutti i numeri primi compresi tra **0 e 10**  \n",
    "   _(Puoi scriverli direttamente nell'array)._\n",
    "\n",
    "2. **Conta quanti numeri ci sono nel vettore** utilizzando la funzione `len()`.  **Ottieni lo stesso numero** accedendo all'attributo `.size` del vettore.\n",
    "\n",
    "3. Quale pensi sia il tipo di dato (`dtype`) del vettore?  Prova a rispondere senza eseguire il codice e Verifica la tua risposta accedendo all'attributo `.dtype` del vettore\n",
    "\n",
    "4. Scrivi l'array usando una list comprehension che controlla che i numeri siano primi. "
   ]
  },
  {
   "cell_type": "code",
   "execution_count": 1,
   "metadata": {},
   "outputs": [
    {
     "name": "stdout",
     "output_type": "stream",
     "text": [
      "vettore: [2 3 5 7]\n",
      "lunghezza_len: 4\n",
      "lunghezza_size: 4\n",
      "tipo_dato_dtype: int64\n",
      "vettore_primi: [2 3 5 7]\n"
     ]
    }
   ],
   "source": [
    "import numpy as np\n",
    "\n",
    "#1 \n",
    "vettore = np.array([2, 3, 5, 7])\n",
    "print(\"vettore:\", vettore)\n",
    "\n",
    "#2\n",
    "lunghezza_len=len(vettore)\n",
    "lunghezza_size=vettore.size\n",
    "print(\"lunghezza_len:\", lunghezza_len)\n",
    "print(\"lunghezza_size:\", lunghezza_size)\n",
    "\n",
    "#3\n",
    "tipo_dato_dtype=vettore.dtype\n",
    "print(\"tipo_dato_dtype:\", tipo_dato_dtype)\n",
    "\n",
    "#4\n",
    "\n",
    "def is_prime(n):\n",
    "    if n <= 1:\n",
    "        return False\n",
    "    for i in range(2, int(n**0.5) + 1):\n",
    "        if n % i == 0:\n",
    "            return False\n",
    "    return True\n",
    "\n",
    "vettore_primi = np.array([x for x in range(0,11) if is_prime(x)])\n",
    "print(\"vettore_primi:\", vettore_primi)\n",
    "\n"
   ]
  },
  {
   "cell_type": "markdown",
   "metadata": {},
   "source": [
    "### **3.  Operazioni su array**\n",
    "Crea un array **a**, 1D (senza digitarlo esplicitamente), e genera due nuovi array **b**, contenente una sottostringa a piacere e **c** che è il reverse dell'array **a** (esempio [1,2,3] diventa [3,2,1]) .  Dividi l'array **a** per l'array **c**. Fai la stessa cosa per una lista."
   ]
  },
  {
   "cell_type": "code",
   "execution_count": 2,
   "metadata": {},
   "outputs": [
    {
     "name": "stdout",
     "output_type": "stream",
     "text": [
      "a: [1 2 3 4 5]\n",
      "b: [1 2 3]\n",
      "c: [5 4 3 2 1]\n",
      "div: [0.2 0.5 1.  2.  5. ]\n",
      "lista_a: [1, 2, 3, 4, 5]\n",
      "lista_b: [1, 2, 3]\n",
      "lista_c: [5, 4, 3, 2, 1]\n",
      "lista_div: [0.2, 0.5, 1.0, 2.0, 5.0]\n"
     ]
    }
   ],
   "source": [
    "\n",
    "import numpy as np\n",
    "\n",
    "#creazione array a\n",
    "a=np.arange(1,6)\n",
    "print(\"a:\", a)\n",
    "\n",
    "#sottostringa di a\n",
    "b=a[:3]\n",
    "print(\"b:\", b)\n",
    "\n",
    "#reverse di a\n",
    "c=a[::-1]\n",
    "print(\"c:\", c)\n",
    "\n",
    "#divisione tra a e c\n",
    "div=a/c \n",
    "print(\"div:\", div)\n",
    "\n",
    "#stesse cose per una lista\n",
    "\n",
    "lista_a=list(range(1,6))\n",
    "print(\"lista_a:\", lista_a)\n",
    "\n",
    "lista_b=lista_a[:3]\n",
    "print(\"lista_b:\", lista_b)\n",
    "\n",
    "lista_c=lista_a[::-1]\n",
    "print(\"lista_c:\", lista_c)\n",
    "\n",
    "lista_div=[x/y for x,y in zip(lista_a,lista_c)]\n",
    "print(\"lista_div:\", lista_div)"
   ]
  }
 ],
 "metadata": {
  "kernelspec": {
   "display_name": "Python 3",
   "language": "python",
   "name": "python3"
  },
  "language_info": {
   "codemirror_mode": {
    "name": "ipython",
    "version": 3
   },
   "file_extension": ".py",
   "mimetype": "text/x-python",
   "name": "python",
   "nbconvert_exporter": "python",
   "pygments_lexer": "ipython3",
   "version": "3.11.9"
  }
 },
 "nbformat": 4,
 "nbformat_minor": 2
}
